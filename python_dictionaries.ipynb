{
 "cells": [
  {
   "cell_type": "markdown",
   "id": "2c592c87",
   "metadata": {},
   "source": [
    "# Assigment 2 - Python dictionaries and file I/O\n",
    "\n",
    "### Overview\n",
    "------------\n",
    "\n",
    "The GTEx gene expression dataset consists of samples taken from many human subjects across a variety of tissues. From this dataset we have identified a set of highly-expressed tissue-specific genes. In this exercise, you will be pulling the expressing data for those genes but only in their primary tissue of expression and investigating how much variability exists across the sample population.\n",
    "\n",
    "Biological Learning Objectives\n",
    "\n",
    "- Use metadata to associate data with subject or sample traits\n",
    "- Use descriptive statistics to make inferences about gene expression heterogeneity\n",
    "\n",
    "Computational Learning Objectives\n",
    "\n",
    "- Create and modify a dicitionary\n",
    "- Use keys to retrieve values stored in a dictionary\n",
    "- Step through each key and value in a dictionary inside a `for` loop\n",
    "- Open and read a text file\n",
    "- Write to a text file\n",
    "\n",
    "### Instructions\n",
    "----------------\n",
    "\n",
    "- Save a copy of this notebook as `~/qbXX-answers/python_dictionaries.ipynb`.\n",
    "- Fill in answers in the available code/markdown cells below.\n",
    "- Remember to comment your code to help yourself and us know what each part is intended to do."
   ]
  },
  {
   "cell_type": "code",
   "execution_count": 53,
   "id": "ba1d85fc",
   "metadata": {},
   "outputs": [],
   "source": [
    "# Use this dictionary for identifying genes of interest and their corresponding tissue of interest\n",
    "\n",
    "gene_tissue = {\n",
    "    'ENSG00000042832.11': 'Thyroid',\n",
    "    'ENSG00000091704.9': 'Pancreas',\n",
    "    'ENSG00000118245.2': 'Testis',\n",
    "    'ENSG00000122304.10': 'Testis',\n",
    "    'ENSG00000122852.14': 'Lung',\n",
    "    'ENSG00000132693.12': 'Liver',\n",
    "    'ENSG00000134812.7': 'Stomach',\n",
    "    'ENSG00000135346.8': 'Pituitary',\n",
    "    'ENSG00000137392.9': 'Pancreas',\n",
    "    'ENSG00000142515.14': 'Prostate',\n",
    "    'ENSG00000142615.7': 'Pancreas',\n",
    "    'ENSG00000142789.19': 'Pancreas',\n",
    "    'ENSG00000158874.11': 'Liver',\n",
    "    'ENSG00000162438.11': 'Pancreas',\n",
    "    'ENSG00000164816.7': 'Small Intestine - Terminal Ileum',\n",
    "    'ENSG00000164822.4': 'Small Intestine - Terminal Ileum',\n",
    "    'ENSG00000168925.10': 'Pancreas',\n",
    "    'ENSG00000168928.12': 'Pancreas',\n",
    "    'ENSG00000170890.13': 'Pancreas',\n",
    "    'ENSG00000171195.10': 'Minor Salivary Gland',\n",
    "    'ENSG00000172179.11': 'Pituitary',\n",
    "    'ENSG00000175535.6': 'Pancreas',\n",
    "    'ENSG00000175646.3': 'Testis',\n",
    "    'ENSG00000182333.14': 'Stomach',\n",
    "    'ENSG00000187021.14': 'Pancreas',\n",
    "    'ENSG00000203784.2': 'Testis',\n",
    "    'ENSG00000204983.13': 'Pancreas',\n",
    "    'ENSG00000219073.7': 'Pancreas',\n",
    "    'ENSG00000229859.9': 'Stomach',\n",
    "    'ENSG00000240338.5': 'Pancreas',\n",
    "    'ENSG00000254647.6': 'Pancreas',\n",
    "    'ENSG00000256713.7': 'Stomach',\n",
    "    'ENSG00000259384.6': 'Pituitary',\n",
    "    }\n"
   ]
  },
  {
   "cell_type": "markdown",
   "id": "5b9449c2",
   "metadata": {},
   "source": [
    "1. Load sample metadata from \"~/Data/GTEx/GTEx_Analysis_v8_Annotations_SampleAttributesDS.txt\" and create a dictionary of sample metadata associating each sample ID with the tissue it was sampled from\n",
    "\n",
    "    - This file is tab-separated but some values have spaces in their text so make sure to specify `\\t` in the `.split()` method\n",
    "    - There are several columns in the metadata file, but you only need to be concerned with `SAMPID` and `SMTSD`, the sample ID and sample tissue, respectively\n",
    "    - Your dictionary should use the `SAMPID` as the key and `SMTSD` as the value"
   ]
  },
  {
   "cell_type": "code",
   "execution_count": 54,
   "id": "8f7622d5",
   "metadata": {},
   "outputs": [],
   "source": [
    "metadata_fname = \"/Users/cmdb/Data/GTEx/GTEx_Analysis_v8_Annotations_SampleAttributesDS.txt\"\n",
    "\n",
    "# Create a dictionary to hold the metadata\n",
    "tissue_info = open(metadata_fname)\n",
    "my_dict = {}\n",
    "for x in tissue_info:\n",
    "    tissue_info = x.strip(\"\\n\")\n",
    "# Step through each line of the metadata file\n",
    "    tissue_info = x.split('\\t') \n",
    "# Remove the newline character from the line you just read in and split it by the tab character; split is a string method that turns it into a list! \n",
    "\n",
    "    # Add the data to your metadata dictionary, using the \"SAMPID\" column value as the dictionary key and the \"SMTSD\" column value as the dictionary value\n",
    "    if 'SAMPID' in tissue_info: \n",
    "        continue\n",
    "    key = tissue_info[0]\n",
    "    value = tissue_info[6]\n",
    "    my_dict[key] = value    \n",
    "#print(my_dict) "
   ]
  },
  {
   "cell_type": "markdown",
   "id": "1821cf32",
   "metadata": {},
   "source": [
    "2. Load and process the headeer from the GTEx gene expression file \"~/Data/GTEx/GTEx_Analysis_2017-06-05_v8_RNASeQCv1.1.9_gene_tpm.gct.gz\"\n",
    "\n",
    "    - You have code that will open the file and read in the header line\n",
    "    - Create a list of tissues corresponding to the column names in the header, one tissue per column name (don't worry about which the column is a sample ID or not since column names that aren't sample IDs will just get a \"missing\" label)\n",
    "    - For each value in the header, see if it appears in the dictionary of sample ID/tissues that you created in step 1\n",
    "    - If the value is in your dictionary, add the corresponding tissue name (the value in dictionary for that sample ID key) to your tissue list\n",
    "    - If the value is not in your dictionary, add \"missing\" to the tissue list"
   ]
  },
  {
   "cell_type": "code",
   "execution_count": 55,
   "id": "544a432c",
   "metadata": {},
   "outputs": [],
   "source": [
    "# Because this file is a gzip-compressed file, you will be using the `gzip` library that comes with python\n",
    "import gzip\n",
    "\n",
    "expression_fname = \"/Users/cmdb/Data/GTEx/GTEx_Analysis_2017-06-05_v8_RNASeQCv1.1.9_gene_tpm.gct.gz\"\n",
    "\n",
    "# Open the file using the gzip library\n",
    "fs = gzip.open(expression_fname)\n",
    "\n",
    "\n",
    "# The file starts with two lines of information before the header, so these are skipped using 2 calls of `.readline()` without keeping the returned data\n",
    "data_linea = fs.readline()\n",
    "data_lineb = fs.readline()\n",
    "\n",
    "# Gzipped text files are read in as byte strings, not regular strings, so you will see that `.decode()` is included after `.readline()` to convert the input into a string\n",
    "header = fs.readline().decode().rstrip().split(\"\\t\")\n",
    "#print(header)\n",
    "#print(my_dict)\n",
    "\n",
    "# Make sure to close the file when you are done reading it\n",
    "fs.close()\n",
    "\n",
    "# Create a list to hold the tissue names\n",
    "tissues = []\n",
    "for gene_values in header:  \n",
    "# Step through each value in the header, I want to see if the values from this header are matching to my dictionary values \n",
    "#if they are matching to my dictionary values, I want to add them to my list, it not, mark as missing: \n",
    "    if gene_values in my_dict: \n",
    "        tissues.append(my_dict[gene_values])\n",
    "    else:\n",
    "        tissues.append(\"missing\")\n",
    "#print(tissues)\n",
    "    \n",
    "    # Check if the value has an entry in the gene_tissue dictionary, adding either the tissue corresponding to that entry or \"missing\" to your tissues list\n"
   ]
  },
  {
   "cell_type": "markdown",
   "id": "eed39f12",
   "metadata": {},
   "source": [
    "3. Create a list of expression values for each gene in the `gene_tissue` dictionary (given at the start of the exercise), keeping only expression values from the tissue of interest for that gene\n",
    "\n",
    "    - Since the file is already open, you can keep reading lines from it in, picking up from after the last line read\n",
    "    - You will be log-transforming the expression data using the `log2` function from the built-in library `math`\n",
    "    - To deal with zeros in expression data, add one before log-transforming expression data"
   ]
  },
  {
   "cell_type": "code",
   "execution_count": 56,
   "id": "5b44a45b",
   "metadata": {},
   "outputs": [
    {
     "name": "stdout",
     "output_type": "stream",
     "text": [
      "{'ENSG00000162438.11': [10.800899899920305, 11.971543553950772, 11.70865283568653, 11.141468555393084, 11.360298426618046, 11.403544678202014, 11.211279947482009, 12.102959885910124, 11.556984957594462, 11.139551352398794, 12.616319096976865, 12.209148710355747, 12.044052531801302, 11.337621901992508, 11.591989767615125, 11.700873155140263, 11.484822894262146, 12.141787841671004, 12.930552554336135, 12.178042328864821, 11.98049663618346, 11.222191138456333, 11.407267764244732, 10.980853606379736, 12.203348002979762, 10.59245703726808, 10.59245703726808, 10.61654884377899, 9.687375683437468, 12.42678889459556, 11.678600139099458, 11.605942439625368, 10.178664851006472, 10.345405246717796, 11.162391328756906, 11.381542951184585, 12.806750989149508, 10.932214751968385, 11.955649907528374, 9.59972691589769, 11.98655314975666, 12.327833296750327, 12.127994320976393, 12.269711121142782, 12.549544038301587, 12.971184272404678, 12.1357092861044, 11.597587039586216, 10.747353829478062, 11.091435386323607, 11.339293300180094, 8.398316163400203, 11.713816080234498, 10.878817284614229, 12.035830072835017, 11.303780748177102, 11.728770849542663, 12.360847084179664, 11.75446999527562, 12.641374424294513, 10.595257481449035, 12.415477707697994, 10.774787059601174, 10.71681946132995, 11.720671786825555, 11.879583249612784, 12.370687406807217, 11.500343969270403, 11.584022940257542, 11.342074667999139, 12.647233549977045, 11.661778097771988, 11.394462694610317, 12.294333559671829, 12.374767814092825, 11.73809225962049, 11.437752072323603, 12.022367813028454, 11.618385502258606, 12.369597346278677, 11.828929827651486, 9.861397129637249, 12.637304122106201, 12.542548262335213, 13.038747556217311, 11.027214885159834, 11.797256217509785, 12.015415052386688, 11.102631888854969, 12.483563888125094, 12.286557761607957, 12.381002109550925, 10.051208940914766, 11.446566409066067, 11.65150022065274, 10.401946123976536, 12.708006128896072, 11.954196310386875, 11.396604781181859, 12.139871063212487, 11.037546953962178, 12.458919206967591, 12.432541900388259, 13.13410540040181, 11.521600439723727, 9.5870273824021, 12.970645182266665, 12.456354415108288, 10.899356922923111, 8.902073579310743, 12.484319423644267, 12.33622758948339, 10.543998450134541, 11.693051295397, 11.800495500466813, 11.757806672197228, 11.53818893205242, 11.512740462803498, 12.133463346523438, 10.584022940257542, 12.14561377551339, 12.570330101030798, 12.157662727208448, 12.180530807344482, 11.579315937580015, 11.246146774635864, 11.213711798105672, 13.086799685623452, 11.952013164889486, 11.166163082646113, 12.770044400296825, 12.196602126523171, 11.557942286787448, 11.224001674198105, 12.439311461818846, 11.420486612825774, 12.669770888525518, 12.234817431117325, 11.425215903299383, 11.740624044489413, 12.103615656394545, 10.92035285541508, 11.417852514885897, 11.16679075071818, 11.191676146352428, 11.387478865842379, 11.207624468226758, 12.33063682472329, 11.36468185586456, 11.27029532647204, 11.428360172704291, 11.240195053979924, 10.677719641641009, 11.9947069952581, 12.843724806299154, 13.022194401760634, 11.447083226209653, 10.71681946132995, 10.375039431346925, 11.719388820942083, 10.88340698638837, 12.058668250340572, 9.547087320664728, 11.164906926675688, 12.781974367389338, 12.545929769085467, 11.4993476328766, 11.697836357962377, 10.912140856295721, 12.149111990706889, 12.52820989662271, 11.027214885159834, 11.904634621668151, 11.688687423222536, 12.483563888125094, 11.704768239362599, 11.703903573444663, 11.133784409179908, 12.02410078025291, 11.671541066711884, 11.813781191217037, 12.954014507722544, 11.1357092861044, 11.207624468226758, 9.492654371018913, 11.366322214245816, 12.271463027904375, 12.069114061773938, 11.371232128369622, 11.935533412950747, 11.0, 12.026523442519766, 10.924070185585345, 11.686938171670388, 10.845490050944376, 11.293471648838134, 12.385323176175872, 11.11504365016171, 11.252074042796185, 11.184875342908283, 12.151967870968189, 11.59245703726808, 12.607561496354206, 10.325305455089682, 9.819700112477433, 10.595257481449035, 12.196294745028263, 11.230620933129867, 11.936637939002571, 12.443202577297011, 11.011227255423254, 12.344295907915816, 12.527477006060396, 11.076147528022505, 11.06204613772049, 12.087131301540529, 11.365775635326269, 12.827938080144989, 13.281930026955443, 10.638435913990472, 11.229419688230417, 12.001408194392809, 11.879200317947392, 10.964340867792417, 10.867278739709661, 11.011227255423254, 12.98655314975666, 11.940680648424093, 12.163649676015824, 11.41204051455165, 12.395801871389747, 12.548099416978387, 11.84979602224561, 12.782179193831208, 11.486835021563051, 11.978352958165143, 12.044735626056909, 10.968666793195208, 11.874212934830874, 11.810169937664659, 11.449664538476192, 11.207014320177532, 11.690434556395054, 11.336506559810255, 12.42783660345852, 12.07045641594465, 11.374496145691516, 12.140510272368221, 11.81257844413538, 11.761135649828645, 10.938844457466171, 10.756556322524087, 10.725366257895642, 12.163020639580793, 11.572226512793694, 11.24436383512051, 12.32558654521057, 11.824163209744158, 12.445790836048076, 11.179909090014934, 9.62862780216015, 11.671541066711884, 9.352043425795433, 11.541096615349524, 11.625252221746873, 10.94178124227853, 11.264442600226602, 9.228818690495881, 11.895953892812168, 12.141468555393084, 11.826548487290914, 9.829564188457965, 12.163020639580793, 12.260331518557601, 11.39231742277876, 11.918490592292311, 12.159240650411673, 11.373408960228696, 11.31797782240712, 12.272046524389937, 12.401412878714178, 12.031701202740303, 12.004220466318195, 12.932952892194715, 11.878817284614229, 10.828136484194108, 11.820178962415188, 11.604553229079038, 11.73259143596501, 11.20212382383046, 12.581906689308768, 11.818981539432443, 11.830911279742782, 11.6640027628865, 11.14274527675153, 11.655530723155643, 12.339571678384699, 12.194756854422248, 11.756139298372927, 11.914385132155443, 11.50382573799575, 12.079484783826816, 11.97513145692134, 12.952923210362727, 11.991876099003415, 11.84313591111135, 11.97513145692134, 12.33734314727405, 12.019938156424795, 12.103287808412022, 12.358925869154714, 12.286268962679781, 11.971184272404678, 11.542548262335213, 11.559855041513625, 11.194756854422248, 11.97906787148051, 11.759472121202833, 11.707359132080883, 12.077483356859508, 11.555068391333338, 11.84979602224561, 11.522581531254831, 11.064742764750257, 11.016111838220512, 11.597587039586216, 12.103615656394545, 11.568906154502084], 'ENSG00000142615.7': [12.380461065088973, 13.421407412062525, 12.46352437327118, 10.488844346457336, 11.4993476328766, 12.543756853375895, 11.955649907528374, 14.150937232895423, 13.058668250340572, 12.006676715308988, 13.190596342475638, 13.624681241788936, 11.754052367528924, 11.758639637024576, 11.267371931265274, 12.667555107041132, 12.662890859139061, 12.827144190984281, 13.6074459096826, 13.93488871535719, 12.037546953962178, 12.340684654363438, 12.977995368612962, 11.58261245126702, 11.794821973331223, 12.935349243033999, 13.469260236005406, 11.774787059601174, 10.086136225027309, 12.0877943047879, 11.735132884139947, 12.797256217509785, 10.205793249397157, 10.14338321398982, 12.389362455643884, 12.144020869266893, 14.086882596749069, 12.693486957499326, 12.075479149488016, 7.032321287057878, 13.366458826626097, 12.406470768529283, 12.452241240430817, 9.801869996364493, 13.290738862439348, 13.953196112102098, 11.94251450533924, 10.67595703294175, 12.042685372219351, 11.44759985827995, 11.330356716957944, 6.693486957499325, 11.720671786825555, 10.034798962577268, 12.605710997410885, 12.130892269806624, 12.702389159976336, 13.964070066282305, 13.025831668332026, 12.704552121462278, 7.590212761408359, 12.926110641785304, 10.761551232444479, 12.936085781679678, 12.580022967753875, 11.212496385193948, 10.570804437724497, 12.437752072323603, 10.398743691938193, 12.114393054867307, 11.42678889459556, 12.851944197999499, 12.085804380278086, 11.874212934830874, 13.945901007545311, 13.171333195835121, 11.938476938666351, 13.083479327331842, 13.127671967038982, 13.065584428061502, 12.746304367701304, 10.800090987624994, 12.801304186049023, 13.750392958643612, 13.40686932142308, 10.458406613236532, 11.476239906323851, 11.987264012072538, 13.020632761657707, 11.459431618637296, 11.298635406734242, 12.892922223630592, 9.331364850495453, 11.214926187942435, 12.863024710236886, 11.964701857420447, 14.0668460030749, 12.36932470240734, 11.533329732305834, 12.708221730038353, 12.731319031025064, 12.908955477289462, 12.655530723155643, 13.329095558568856, 11.242578689451346, 9.086401645880029, 13.315008003600356, 14.048231416702446, 10.043027283594547, 6.87528859822269, 12.967766627794514, 12.434628227636725, 10.108524456778168, 12.651948610723446, 11.92740761294903, 12.827739648806956, 10.792790294301064, 12.173364830849037, 12.246740598493144, 10.238404739325079, 13.67297773890013, 12.305206759008723, 13.592340234042425, 13.205182326228643, 12.159240650411673, 10.023754353299417, 13.09819661452721, 12.521845775161932, 10.686500527183219, 10.794415866350105, 11.852529509404196, 12.806549621985962, 11.579315937580015, 13.811876378336393, 13.427967513584365, 13.112765281885316, 13.385458001187969, 10.804937672051908, 12.515453455388577, 13.354111608460832, 10.194756854422248, 13.320659543648578, 12.490600213019592, 12.667776838393431, 11.11829223302699, 11.979782430703086, 10.332036548361652, 13.455198769515098, 11.585432051592962, 12.71681946132995, 12.642051692927977, 10.743992861060175, 11.147840893672337, 12.877092375027413, 13.305064221337224, 13.47307151430745, 13.510640559552062, 9.852841578417069, 8.037821465434968, 10.373952655370193, 10.094077685671905, 10.324180546618742, 9.246027980528105, 12.14210705730255, 11.184255495405349, 11.987619311924325, 12.179287104646004, 12.371232128369622, 12.623652908052925, 12.331476821859619, 11.029287226968245, 10.112439506781552, 11.897467341721892, 11.997885127829111, 12.540370243743567, 10.3409627642517, 10.871905237659186, 11.634357301137976, 12.188897873242189, 13.051718757178115, 12.457124331540804, 14.095973853603395, 11.72451385311995, 7.678776174123884, 10.804131021183318, 10.773963368433558, 13.53393802806932, 13.1226662486288, 11.383704292474052, 12.45532722030456, 8.844234987758751, 12.900678158743357, 5.7998644108818525, 13.037890085142507, 12.627761852402616, 12.017852331905962, 12.826945650415485, 9.9901039638575, 12.809567182259656, 11.460455896309636, 12.299494239009364, 10.653740778706569, 12.948184692830605, 9.642593279009876, 11.030667136246942, 12.366322214245816, 12.974414589805527, 11.203348002979762, 11.937741620077096, 13.49197832483901, 12.327271936805156, 11.763627351727628, 12.643630751061728, 13.233919208586977, 10.002815015607053, 12.588480412829758, 12.576956664706092, 10.874981347653774, 12.15386865522324, 11.214319120800766, 12.393658591454773, 14.463460513189242, 12.458150248057557, 10.606405212697785, 9.91423562233191, 13.906045018731197, 13.72398084426884, 12.691961564216788, 12.617926556798752, 12.037890085142507, 13.499472212561567, 11.691743519171276, 11.712097051087547, 12.536732889835415, 11.116343961237469, 13.26883436934376, 13.313591652572708, 10.585901449690772, 12.29232163280204, 13.13249972962851, 12.123798091251855, 12.905951035144904, 11.79400964502097, 12.5401280385821, 12.926110641785304, 12.062720767165045, 11.333155350310616, 12.727282329212189, 12.017156386383112, 12.425215903299383, 11.919608238603253, 11.5980525001616, 12.733650916838716, 13.171020382511934, 12.03857610276879, 11.550746785383243, 12.353698209048035, 13.145136088281756, 12.704119788513017, 10.004220466318195, 7.536830005048058, 10.757390009366638, 8.644937805500176, 12.671098725748465, 11.576484346796851, 11.73259143596501, 11.930367747438952, 6.470862199413702, 13.303638069539703, 13.201358184030669, 12.578844391558203, 8.157852169141737, 11.383704292474052, 12.910830081296574, 12.445273555640638, 13.11504365016171, 11.644306961545581, 13.015066533230291, 12.787290426559581, 12.108524456778168, 11.829722735086058, 12.429668265133094, 10.76487159073609, 12.321646290991382, 13.667444228584259, 12.27699673929712, 13.370551194274341, 11.200898605038445, 12.33371442609397, 11.69479315499995, 11.344295907915816, 10.129283016944967, 13.02392757717438, 11.922584402713664, 8.203103250236637, 11.403544678202014, 13.388151858829762, 12.421801860469873, 13.599331742956293, 12.623881490013458, 12.58941707576861, 13.780437241441225, 12.537461094633018, 13.25429050511706, 10.399811959325685, 12.018200178813226, 12.90651484484695, 13.818881709308133, 13.53393802806932, 11.398209261466851, 12.514960563330183, 12.261801107195309, 11.610563503925041, 10.878050912728536, 13.310754772215313, 13.14609130463152, 13.22143607744528, 12.485326189240524, 9.306745269180949, 12.753007768945245, 12.963979787815338, 12.156715144224702, 12.38720958071964, 11.26795708440284, 10.694357887221452, 13.7732422526853, 12.679040186393062, 10.812177305514448]}\n"
     ]
    }
   ],
   "source": [
    "# Import the log2 function from the math library to transform the expression counts\n",
    "from math import log2\n",
    "\n",
    "# Create a dictionary to hold each gene's expression data\n",
    "gene_expression = {}\n",
    "\n",
    "# Because this is a large file, for testing purposes you can use only a small portion of the file to test your code\n",
    "line_counter = 0\n",
    "\n",
    "# Step through each line of the file\n",
    "for line in gzip.open(expression_fname):\n",
    "    ############# REMOVE THIS AND RERUN ONCE YOUR CODE IS WORKING ####################\n",
    "    # For debugging, use only the first 500 lines of the file.\n",
    "    line_counter += 1\n",
    "    if line_counter == 500:\n",
    "        break\n",
    "    ############# REMOVE THIS AND RERUN ONCE YOUR CODE IS WORKING ####################\n",
    "    # Convert the line into a string from a byte string, remove the newline character at the end, and split it by tab characters\n",
    "    fields = line.decode().rstrip().split(\"\\t\")\n",
    "\n",
    "    # Check if this line contains data for a gene we are interested in. If not, skip it\n",
    "    fields = line.decode().rstrip().split(\"\\t\")\n",
    "    if fields[0] not in gene_tissue:\n",
    "        continue\n",
    "\n",
    "    # Determine which tissue we care about for this gene\n",
    "    tissue = gene_tissue[fields[0]]\n",
    "\n",
    "    # Create a list in the gene expression dictionary to hold the gene's data\n",
    "    gene_expression[fields[0]] = []\n",
    "\n",
    "    # Look at each column position, one by one\n",
    "    for i in range(len(tissues)):\n",
    "\n",
    "        # For each column, see if it is from the tissue we care about (using the tissues list). If so, add that field to our gene expression list, first transforming it with log2(1 + float(field[i])) \n",
    "        if tissues[i] == tissue:\n",
    "            gene_expression[fields[0]].append(log2(1 + float(fields[i])))\n",
    "print(gene_expression)"
   ]
  },
  {
   "cell_type": "markdown",
   "id": "4676fc06",
   "metadata": {},
   "source": [
    "4. For each gene, calculate the mean, standard deviation, and relative standard deviation and write them to a results file\n",
    "\n",
    "    - You will be using the `mean` and `stdev` functions from the built-in `statistics` library. Both functions accept a list as their input\n",
    "    - Format your results for each gene into a string and write that string to your results file\n",
    "    - If you want to organize your results better (completely optional!!), you can save your results in a list and sorting them by tissue type before writing them to a file"
   ]
  },
  {
   "cell_type": "code",
   "execution_count": 61,
   "id": "6b89b161",
   "metadata": {},
   "outputs": [],
   "source": [
    "# Load the functions to caculcate the mean and standard deviation from a list\n",
    "from statistics import stdev, mean\n",
    "\n",
    "# Open a file to write the results to\n",
    "new_file = open(\"/Users/cmdb/qb25-answers/cmdb_file.txt\", \"a+\")\n",
    "# Step through each gene and its expression value list\n",
    "for genes in gene_expression: \n",
    "    expressions = gene_expression[genes] \n",
    "    #stdev and mean: \n",
    "    mean_genes = mean(expressions)\n",
    "    meanie = str(mean_genes)\n",
    "    stdev_genes = stdev(expressions)\n",
    "    stdevi = str(stdev_genes)\n",
    "    #print(mean_genes)\n",
    "    # Calculate the relative standard deviation (coefficient of variation, std / mean)\n",
    "    relative_stdev = (stdev_genes/ mean_genes)\n",
    "#print (relative_stdev)\n",
    "#Write the tissue namne, gene name, mean, standard deviation, and relative standard deviation to your results file\n",
    "new_file.write(\"meanie\")\n",
    "new_file.write(\"hello\")\n",
    "# Close your results file\n",
    "new_file.close()\n",
    "\n",
    "  \n",
    "\n"
   ]
  },
  {
   "cell_type": "markdown",
   "id": "185fe1ce",
   "metadata": {},
   "source": [
    "5. Looking at your results, answer the following questions\n",
    "\n",
    "    - Which tissues have low relative variability (rv < 0.2), medium relative variability (0.2 < rv < 0.4), or high relative variability (rv > 0.4)?\n",
    "    - Do each of the genes for a given tissue show the same level of relative variability?\n",
    "    - Propose an explanation for differences in relative variability you see between tissues based on what you know about their functions.\n",
    "    - Were any of the results surpising to you?"
   ]
  },
  {
   "cell_type": "markdown",
   "id": "9a3f6e9a",
   "metadata": {},
   "source": [
    "Answers:\n"
   ]
  },
  {
   "cell_type": "markdown",
   "id": "b1b11942",
   "metadata": {},
   "source": []
  }
 ],
 "metadata": {
  "kernelspec": {
   "display_name": "qb25",
   "language": "python",
   "name": "python3"
  },
  "language_info": {
   "codemirror_mode": {
    "name": "ipython",
    "version": 3
   },
   "file_extension": ".py",
   "mimetype": "text/x-python",
   "name": "python",
   "nbconvert_exporter": "python",
   "pygments_lexer": "ipython3",
   "version": "3.12.3"
  }
 },
 "nbformat": 4,
 "nbformat_minor": 5
}
